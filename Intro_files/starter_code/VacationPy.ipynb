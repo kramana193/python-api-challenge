{
 "cells": [
  {
   "cell_type": "markdown",
   "metadata": {},
   "source": [
    "# VacationPy\n",
    "----\n",
    "\n",
    "#### Note\n",
    "* Keep an eye on your API usage. Use https://developers.google.com/maps/reporting/gmp-reporting as reference for how to monitor your usage and billing.\n",
    "\n",
    "* Instructions have been included for each segment. You do not have to follow them exactly, but they are included to help you think through the steps."
   ]
  },
  {
   "cell_type": "code",
   "execution_count": null,
   "metadata": {},
   "outputs": [],
   "source": [
    "# pip install gmaps"
   ]
  },
  {
   "cell_type": "code",
   "execution_count": 34,
   "metadata": {},
   "outputs": [],
   "source": [
    "# Dependencies and Setup\n",
    "import matplotlib.pyplot as plt\n",
    "import pandas as pd\n",
    "import numpy as np\n",
    "import requests\n",
    "import gmaps\n",
    "import os\n",
    "\n",
    "# Import API key\n",
    "from api_keys import g_key"
   ]
  },
  {
   "cell_type": "markdown",
   "metadata": {},
   "source": [
    "### Store Part I results into DataFrame\n",
    "* Load the csv exported in Part I to a DataFrame"
   ]
  },
  {
   "cell_type": "code",
   "execution_count": 35,
   "metadata": {},
   "outputs": [
    {
     "data": {
      "text/html": [
       "<div>\n",
       "<style scoped>\n",
       "    .dataframe tbody tr th:only-of-type {\n",
       "        vertical-align: middle;\n",
       "    }\n",
       "\n",
       "    .dataframe tbody tr th {\n",
       "        vertical-align: top;\n",
       "    }\n",
       "\n",
       "    .dataframe thead th {\n",
       "        text-align: right;\n",
       "    }\n",
       "</style>\n",
       "<table border=\"1\" class=\"dataframe\">\n",
       "  <thead>\n",
       "    <tr style=\"text-align: right;\">\n",
       "      <th></th>\n",
       "      <th>city</th>\n",
       "      <th>Lat</th>\n",
       "      <th>Lng</th>\n",
       "      <th>Max Temp</th>\n",
       "      <th>Humidity</th>\n",
       "      <th>Cloudiness</th>\n",
       "      <th>Wind Speed</th>\n",
       "      <th>Country</th>\n",
       "      <th>Date</th>\n",
       "    </tr>\n",
       "  </thead>\n",
       "  <tbody>\n",
       "    <tr>\n",
       "      <th>0</th>\n",
       "      <td>codrington</td>\n",
       "      <td>-38.2667</td>\n",
       "      <td>141.9667</td>\n",
       "      <td>285.87</td>\n",
       "      <td>55</td>\n",
       "      <td>8</td>\n",
       "      <td>1.50</td>\n",
       "      <td>AU</td>\n",
       "      <td>1659932146</td>\n",
       "    </tr>\n",
       "    <tr>\n",
       "      <th>1</th>\n",
       "      <td>rikitea</td>\n",
       "      <td>-23.1203</td>\n",
       "      <td>-134.9692</td>\n",
       "      <td>294.44</td>\n",
       "      <td>77</td>\n",
       "      <td>100</td>\n",
       "      <td>16.51</td>\n",
       "      <td>PF</td>\n",
       "      <td>1659932146</td>\n",
       "    </tr>\n",
       "    <tr>\n",
       "      <th>2</th>\n",
       "      <td>port alfred</td>\n",
       "      <td>-33.5906</td>\n",
       "      <td>26.8910</td>\n",
       "      <td>287.14</td>\n",
       "      <td>99</td>\n",
       "      <td>88</td>\n",
       "      <td>0.45</td>\n",
       "      <td>ZA</td>\n",
       "      <td>1659932112</td>\n",
       "    </tr>\n",
       "    <tr>\n",
       "      <th>3</th>\n",
       "      <td>union de san antonio</td>\n",
       "      <td>21.1000</td>\n",
       "      <td>-101.9667</td>\n",
       "      <td>289.85</td>\n",
       "      <td>68</td>\n",
       "      <td>91</td>\n",
       "      <td>1.65</td>\n",
       "      <td>MX</td>\n",
       "      <td>1659932148</td>\n",
       "    </tr>\n",
       "    <tr>\n",
       "      <th>4</th>\n",
       "      <td>butaritari</td>\n",
       "      <td>3.0707</td>\n",
       "      <td>172.7902</td>\n",
       "      <td>300.76</td>\n",
       "      <td>75</td>\n",
       "      <td>92</td>\n",
       "      <td>5.43</td>\n",
       "      <td>KI</td>\n",
       "      <td>1659932148</td>\n",
       "    </tr>\n",
       "    <tr>\n",
       "      <th>...</th>\n",
       "      <td>...</td>\n",
       "      <td>...</td>\n",
       "      <td>...</td>\n",
       "      <td>...</td>\n",
       "      <td>...</td>\n",
       "      <td>...</td>\n",
       "      <td>...</td>\n",
       "      <td>...</td>\n",
       "      <td>...</td>\n",
       "    </tr>\n",
       "    <tr>\n",
       "      <th>550</th>\n",
       "      <td>manggar</td>\n",
       "      <td>-2.8833</td>\n",
       "      <td>108.2667</td>\n",
       "      <td>302.43</td>\n",
       "      <td>67</td>\n",
       "      <td>4</td>\n",
       "      <td>5.85</td>\n",
       "      <td>ID</td>\n",
       "      <td>1659933135</td>\n",
       "    </tr>\n",
       "    <tr>\n",
       "      <th>551</th>\n",
       "      <td>kolobovo</td>\n",
       "      <td>56.7020</td>\n",
       "      <td>41.3417</td>\n",
       "      <td>291.64</td>\n",
       "      <td>90</td>\n",
       "      <td>99</td>\n",
       "      <td>2.62</td>\n",
       "      <td>RU</td>\n",
       "      <td>1659933136</td>\n",
       "    </tr>\n",
       "    <tr>\n",
       "      <th>552</th>\n",
       "      <td>kochki</td>\n",
       "      <td>54.3358</td>\n",
       "      <td>80.4806</td>\n",
       "      <td>293.34</td>\n",
       "      <td>64</td>\n",
       "      <td>57</td>\n",
       "      <td>3.73</td>\n",
       "      <td>RU</td>\n",
       "      <td>1659933137</td>\n",
       "    </tr>\n",
       "    <tr>\n",
       "      <th>553</th>\n",
       "      <td>gangapur</td>\n",
       "      <td>26.4833</td>\n",
       "      <td>76.7167</td>\n",
       "      <td>304.33</td>\n",
       "      <td>59</td>\n",
       "      <td>75</td>\n",
       "      <td>2.99</td>\n",
       "      <td>IN</td>\n",
       "      <td>1659933138</td>\n",
       "    </tr>\n",
       "    <tr>\n",
       "      <th>554</th>\n",
       "      <td>lapa</td>\n",
       "      <td>-25.7697</td>\n",
       "      <td>-49.7158</td>\n",
       "      <td>286.74</td>\n",
       "      <td>98</td>\n",
       "      <td>100</td>\n",
       "      <td>2.73</td>\n",
       "      <td>BR</td>\n",
       "      <td>1659933139</td>\n",
       "    </tr>\n",
       "  </tbody>\n",
       "</table>\n",
       "<p>555 rows × 9 columns</p>\n",
       "</div>"
      ],
      "text/plain": [
       "                     city      Lat       Lng  Max Temp  Humidity  Cloudiness  \\\n",
       "0              codrington -38.2667  141.9667    285.87        55           8   \n",
       "1                 rikitea -23.1203 -134.9692    294.44        77         100   \n",
       "2             port alfred -33.5906   26.8910    287.14        99          88   \n",
       "3    union de san antonio  21.1000 -101.9667    289.85        68          91   \n",
       "4              butaritari   3.0707  172.7902    300.76        75          92   \n",
       "..                    ...      ...       ...       ...       ...         ...   \n",
       "550               manggar  -2.8833  108.2667    302.43        67           4   \n",
       "551              kolobovo  56.7020   41.3417    291.64        90          99   \n",
       "552                kochki  54.3358   80.4806    293.34        64          57   \n",
       "553              gangapur  26.4833   76.7167    304.33        59          75   \n",
       "554                  lapa -25.7697  -49.7158    286.74        98         100   \n",
       "\n",
       "     Wind Speed Country        Date  \n",
       "0          1.50      AU  1659932146  \n",
       "1         16.51      PF  1659932146  \n",
       "2          0.45      ZA  1659932112  \n",
       "3          1.65      MX  1659932148  \n",
       "4          5.43      KI  1659932148  \n",
       "..          ...     ...         ...  \n",
       "550        5.85      ID  1659933135  \n",
       "551        2.62      RU  1659933136  \n",
       "552        3.73      RU  1659933137  \n",
       "553        2.99      IN  1659933138  \n",
       "554        2.73      BR  1659933139  \n",
       "\n",
       "[555 rows x 9 columns]"
      ]
     },
     "execution_count": 35,
     "metadata": {},
     "output_type": "execute_result"
    }
   ],
   "source": [
    "file = \"cities_pd.csv\"\n",
    "\n",
    "cities_pd = pd.read_csv(file)\n",
    "\n",
    "cities_pd"
   ]
  },
  {
   "cell_type": "markdown",
   "metadata": {},
   "source": [
    "### Humidity Heatmap\n",
    "* Configure gmaps.\n",
    "* Use the Lat and Lng as locations and Humidity as the weight.\n",
    "* Add Heatmap layer to map."
   ]
  },
  {
   "cell_type": "code",
   "execution_count": 31,
   "metadata": {},
   "outputs": [],
   "source": [
    "gmaps.configure(api_key=g_key)\n",
    "\n",
    "locations = cities_pd[['Lat' , 'Lng']]\n",
    "\n",
    "humidity = cities_pd['Humidity'].astype(float)\n",
    "\n",
    "# locations \n",
    "\n",
    "# humidity"
   ]
  },
  {
   "cell_type": "code",
   "execution_count": 32,
   "metadata": {},
   "outputs": [
    {
     "data": {
      "application/vnd.jupyter.widget-view+json": {
       "model_id": "6fde163888ca4fb49d353a2fc532f0d7",
       "version_major": 2,
       "version_minor": 0
      },
      "text/plain": [
       "Figure(layout=FigureLayout(height='420px'))"
      ]
     },
     "metadata": {},
     "output_type": "display_data"
    }
   ],
   "source": [
    "fig = gmaps.figure(display_toolbar=True, display_errors=True, zoom_level=2, tilt=45, center=(0, 0), layout=None, map_type='ROADMAP', mouse_handling='COOPERATIVE')\n",
    "\n",
    "heat_layer = gmaps.heatmap_layer(locations, weights=None, max_intensity=50, dissipating=False, point_radius=1, opacity=0.6, gradient=None)\n",
    "\n",
    "fig.add_layer(heat_layer)\n",
    "\n",
    "fig\n",
    "\n",
    "# heat_layer"
   ]
  },
  {
   "cell_type": "markdown",
   "metadata": {},
   "source": [
    "### Create new DataFrame fitting weather criteria\n",
    "* Narrow down the cities to fit weather conditions.\n",
    "* Drop any rows with null values."
   ]
  },
  {
   "cell_type": "code",
   "execution_count": 33,
   "metadata": {},
   "outputs": [
    {
     "data": {
      "text/plain": [
       "553"
      ]
     },
     "execution_count": 33,
     "metadata": {},
     "output_type": "execute_result"
    }
   ],
   "source": [
    "cities_weather_complete = pd.DataFrame(cities_pd.dropna(how='any'))\n",
    "\n",
    "# cities_weather_complete\n",
    "\n",
    "len(cities_weather_complete)\n",
    "# len(cities_pd)"
   ]
  },
  {
   "cell_type": "markdown",
   "metadata": {},
   "source": [
    "### Hotel Map\n",
    "* Store into variable named `hotel_df`.\n",
    "* Add a \"Hotel Name\" column to the DataFrame.\n",
    "* Set parameters to search for hotels with 5000 meters.\n",
    "* Hit the Google Places API for each city's coordinates.\n",
    "* Store the first Hotel result into the DataFrame.\n",
    "* Plot markers on top of the heatmap."
   ]
  },
  {
   "cell_type": "code",
   "execution_count": null,
   "metadata": {},
   "outputs": [],
   "source": []
  },
  {
   "cell_type": "code",
   "execution_count": null,
   "metadata": {},
   "outputs": [],
   "source": []
  },
  {
   "cell_type": "code",
   "execution_count": null,
   "metadata": {},
   "outputs": [],
   "source": [
    "# NOTE: Do not change any of the code in this cell\n",
    "\n",
    "# Using the template add the hotel marks to the heatmap\n",
    "info_box_template = \"\"\"\n",
    "<dl>\n",
    "<dt>Name</dt><dd>{Hotel Name}</dd>\n",
    "<dt>City</dt><dd>{City}</dd>\n",
    "<dt>Country</dt><dd>{Country}</dd>\n",
    "</dl>\n",
    "\"\"\"\n",
    "# Store the DataFrame Row\n",
    "# NOTE: be sure to update with your DataFrame name\n",
    "hotel_info = [info_box_template.format(**row) for index, row in hotel_df.iterrows()]\n",
    "locations = hotel_df[[\"Lat\", \"Lng\"]]"
   ]
  },
  {
   "cell_type": "code",
   "execution_count": null,
   "metadata": {},
   "outputs": [],
   "source": [
    "# Add marker layer ontop of heat map\n",
    "\n",
    "\n",
    "# Display figure\n"
   ]
  },
  {
   "cell_type": "code",
   "execution_count": null,
   "metadata": {},
   "outputs": [],
   "source": []
  }
 ],
 "metadata": {
  "kernelspec": {
   "display_name": "Python 3 (ipykernel)",
   "language": "python",
   "name": "python3"
  },
  "language_info": {
   "codemirror_mode": {
    "name": "ipython",
    "version": 3
   },
   "file_extension": ".py",
   "mimetype": "text/x-python",
   "name": "python",
   "nbconvert_exporter": "python",
   "pygments_lexer": "ipython3",
   "version": "3.9.7"
  },
  "latex_envs": {
   "LaTeX_envs_menu_present": true,
   "autoclose": false,
   "autocomplete": true,
   "bibliofile": "biblio.bib",
   "cite_by": "apalike",
   "current_citInitial": 1,
   "eqLabelWithNumbers": true,
   "eqNumInitial": 1,
   "hotkeys": {
    "equation": "Ctrl-E",
    "itemize": "Ctrl-I"
   },
   "labels_anchors": false,
   "latex_user_defs": false,
   "report_style_numbering": false,
   "user_envs_cfg": false
  }
 },
 "nbformat": 4,
 "nbformat_minor": 4
}
